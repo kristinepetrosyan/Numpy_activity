{
 "cells": [
  {
   "cell_type": "code",
   "execution_count": 1,
   "metadata": {},
   "outputs": [
    {
     "name": "stdout",
     "output_type": "stream",
     "text": [
      "[0. 0. 0. 5. 0. 0. 0. 0. 0. 0.]\n"
     ]
    }
   ],
   "source": [
    "#Tasks\n",
    "#1.Create an array of ten zeros but the fourth value which is 5\n",
    "\n",
    "import numpy as np\n",
    "\n",
    "array=np.zeros(10)\n",
    "almost_all_zeros_array =np.zeros(10)\n",
    "almost_all_zeros_array[3] =5\n",
    "\n",
    "print(almost_all_zeros_array)"
   ]
  },
  {
   "cell_type": "code",
   "execution_count": 2,
   "metadata": {},
   "outputs": [
    {
     "name": "stdout",
     "output_type": "stream",
     "text": [
      "[2 3 6 5 5 3 6 0 7 5]\n"
     ]
    }
   ],
   "source": [
    "#2.Create another array of ten random values\n",
    "\n",
    "random_array = np.random.randint(10, size=10)\n",
    "print(random_array)"
   ]
  },
  {
   "cell_type": "code",
   "execution_count": 3,
   "metadata": {},
   "outputs": [
    {
     "name": "stdout",
     "output_type": "stream",
     "text": [
      "[ 2.  3.  6. 10.  5.  3.  6.  0.  7.  5.]\n"
     ]
    }
   ],
   "source": [
    "#3.Combine the values mathematically (addition, multiplication, etc.) to make a new array of ten values\n",
    "\n",
    "new_array = random_array + almost_all_zeros_array\n",
    "print(new_array)"
   ]
  },
  {
   "cell_type": "code",
   "execution_count": 25,
   "metadata": {},
   "outputs": [
    {
     "name": "stdout",
     "output_type": "stream",
     "text": [
      "[[31 29 31 30]\n",
      " [31 30 31 31]\n",
      " [30 31 30 31]]\n"
     ]
    }
   ],
   "source": [
    "#4.[CHALLENGE!] Create a 3D array where the values represent the number of days in the month and each row represents the following months\n",
    "#1st row: Jan-Apr\n",
    "#2nd row: May-Aug\n",
    "#3rd row: Sept-Dec\n",
    "\n",
    "import calendar as cal\n",
    "from datetime import datetime as dt\n",
    "\n",
    "n = 1\n",
    "year = dt.now().year\n",
    "month_array = np.array([[cal.monthrange(year,x)[1] for x in range(n,n+4)],\n",
    "                       [cal.monthrange(year,y)[1] for y in range(n+4,n+8)],\n",
    "                       [cal.monthrange(year,z)[1] for z in range(n+8,n+12)]])\n",
    "print(month_array)\n"
   ]
  },
  {
   "cell_type": "code",
   "execution_count": null,
   "metadata": {},
   "outputs": [],
   "source": []
  }
 ],
 "metadata": {
  "kernelspec": {
   "display_name": "Python 3",
   "language": "python",
   "name": "python3"
  },
  "language_info": {
   "codemirror_mode": {
    "name": "ipython",
    "version": 3
   },
   "file_extension": ".py",
   "mimetype": "text/x-python",
   "name": "python",
   "nbconvert_exporter": "python",
   "pygments_lexer": "ipython3",
   "version": "3.6.9"
  }
 },
 "nbformat": 4,
 "nbformat_minor": 2
}
